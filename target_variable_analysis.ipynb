{
 "cells": [
  {
   "cell_type": "code",
   "execution_count": 2,
   "id": "reserved-direction",
   "metadata": {
    "tags": []
   },
   "outputs": [],
   "source": [
    "import pandas as pd\n",
    "from config import Config\n",
    "\n",
    "ch_outs = pd.read_csv(Config.CHECKOUTS_FNAME)"
   ]
  },
  {
   "cell_type": "markdown",
   "id": "congressional-delay",
   "metadata": {},
   "source": [
    "### Find all mistakes in encoding"
   ]
  },
  {
   "cell_type": "markdown",
   "id": "suspected-english",
   "metadata": {},
   "source": [
    "#### Date checkout "
   ]
  },
  {
   "cell_type": "code",
   "execution_count": 3,
   "id": "muslim-blind",
   "metadata": {},
   "outputs": [],
   "source": [
    "dc = ch_outs.date_checkout.dropna().str.strip()\n",
    "dc = dc.str.replace(\"%\", \"\")"
   ]
  },
  {
   "cell_type": "code",
   "execution_count": 4,
   "id": "engaging-fiber",
   "metadata": {},
   "outputs": [],
   "source": [
    "first_pattern = r\"2\\d\\d\\d\\-\\d\\d-\\d\\d\"\n",
    "second_pattern = r\"2\\d\\d\\d\\/\\d\\d/\\d\\d\"\n",
    "third_pattern = r\"2\\d\\d\\d\\d\\d\\d\\d\"\n",
    "fourth_pattern = r\"1\\d\\d\\d\\-\\d\\d-\\d\\d\" \n",
    "fifth_pattern = r\"2\\d\\d\\d\\s\\d\\d\\s\\d\\d\"\n",
    "sixth_pattern = r\"2\\d\\d\\d\\|\\d\\d\\|\\d\\d\""
   ]
  },
  {
   "cell_type": "markdown",
   "id": "integrated-craft",
   "metadata": {},
   "source": [
    "To follow my logic you can simply comment line by line the following piece of code. Note - it's recomended to comment just matching patterns. "
   ]
  },
  {
   "cell_type": "code",
   "execution_count": 8,
   "id": "appreciated-while",
   "metadata": {},
   "outputs": [
    {
     "data": {
      "text/plain": [
       "array(['2018/12/31', '2018/11/24', '2018/02/26', '2018/07/07',\n",
       "       '2018/01/11', '2018/11/29', '2018/05/18', '2018/06/07',\n",
       "       '2018/11/12', '2018/11/25', '2018/02/08'], dtype=object)"
      ]
     },
     "execution_count": 8,
     "metadata": {},
     "output_type": "execute_result"
    }
   ],
   "source": [
    "(\n",
    "    dc[\n",
    "        ~(dc.str.match(first_pattern))\n",
    "#         & ~(dc.str.match(second_pattern)) \n",
    "        & ~(dc.str.match(third_pattern))\n",
    "        & ~(dc.str.match(fourth_pattern))\n",
    "        & ~(dc.str.match(fifth_pattern))\n",
    "        & ~(dc.str.match(sixth_pattern))\n",
    "    ].unique()\n",
    ")"
   ]
  },
  {
   "cell_type": "markdown",
   "id": "surface-sapphire",
   "metadata": {},
   "source": [
    "#### Date return"
   ]
  },
  {
   "cell_type": "code",
   "execution_count": 6,
   "id": "reserved-still",
   "metadata": {},
   "outputs": [],
   "source": [
    "dr = ch_outs.date_returned.dropna().str.strip()\n",
    "dr = dr.str.replace(\"%\", \"\")"
   ]
  },
  {
   "cell_type": "code",
   "execution_count": 12,
   "id": "institutional-pavilion",
   "metadata": {},
   "outputs": [
    {
     "data": {
      "text/plain": [
       "array(['2018|10|15', '2018/08/03', '2018/02/17', '2018|05|13',\n",
       "       '2018|11|15', '2018|07|06', '2018|04|07', '2018|07|13',\n",
       "       '2018|11|12', '2018/07/12', '2018|04|25', '2018/04/13',\n",
       "       '2018|08|15', '2018|05|19', '2018|10|09', '2018|08|06',\n",
       "       '2018/10/19'], dtype=object)"
      ]
     },
     "execution_count": 12,
     "metadata": {},
     "output_type": "execute_result"
    }
   ],
   "source": [
    "(\n",
    "    dr[\n",
    "        ~(dr.str.match(first_pattern))\n",
    "#         & ~(dr.str.match(second_pattern)) \n",
    "        & ~(dr.str.match(third_pattern))\n",
    "        & ~(dr.str.match(fourth_pattern))\n",
    "        & ~(dr.str.match(fifth_pattern))\n",
    "#         & ~(dr.str.match(sixth_pattern))\n",
    "    ].unique()\n",
    ")"
   ]
  }
 ],
 "metadata": {
  "kernelspec": {
   "display_name": "Python 3",
   "language": "python",
   "name": "python3"
  },
  "language_info": {
   "codemirror_mode": {
    "name": "ipython",
    "version": 3
   },
   "file_extension": ".py",
   "mimetype": "text/x-python",
   "name": "python",
   "nbconvert_exporter": "python",
   "pygments_lexer": "ipython3",
   "version": "3.7.9"
  }
 },
 "nbformat": 4,
 "nbformat_minor": 5
}
